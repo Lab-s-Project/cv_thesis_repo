{
 "cells": [
  {
   "cell_type": "code",
   "execution_count": 29,
   "id": "5791b834-493f-46c6-a71e-bdfc0141a1c4",
   "metadata": {},
   "outputs": [],
   "source": [
    "import glob\n",
    "import pandas as pd\n",
    "from tqdm import tqdm"
   ]
  },
  {
   "cell_type": "code",
   "execution_count": 30,
   "id": "94330bec-33b6-4bba-8536-78a933ed2cd4",
   "metadata": {},
   "outputs": [],
   "source": [
    "train = glob.glob('./dataset/labels/train/*.txt')\n",
    "test = glob.glob('./dataset/labels/test/*.txt')\n",
    "val = glob.glob('./dataset/labels/val/*.txt')"
   ]
  },
  {
   "cell_type": "code",
   "execution_count": 37,
   "id": "5bd811fb-eaed-412b-8166-7cea89859a0f",
   "metadata": {},
   "outputs": [
    {
     "name": "stderr",
     "output_type": "stream",
     "text": [
      "Validating label files.:   0%|                                                      | 1/5201 [00:03<5:26:29,  3.77s/it]\n",
      "Validating label files.: 100%|███████████████████████████████████████████████████▉| 5192/5201 [00:15<00:00, 360.17it/s]"
     ]
    }
   ],
   "source": [
    "all_txt = train+test+val\n",
    "pbar = tqdm(total=len(all_txt), desc=\"Validating label files.\", position=0, leave=True)\n",
    "for txt_file in all_txt:\n",
    "    pbar.update(1)\n",
    "    txt = pd.read_csv(txt_file, delimiter=' ')\n",
    "    txt.columns = ['cls', 'x1', 'x2', 'x3', 'x4']\n",
    "    cls_val = txt[~txt.cls.isin([0, 1])].shape[0]\n",
    "    x1_val = txt[~(txt.x1 >= 0)].shape[0]\n",
    "    x2_val = txt[~(txt.x2 >= 0)].shape[0]\n",
    "    x3_val = txt[~(txt.x3 >= 0)].shape[0]\n",
    "    x4_val = txt[~(txt.x4 >= 0)].shape[0]\n",
    "    \n",
    "    if (cls_val != 0) or (x1_val != 0)or (x1_val != 0) or (x2_val != 0) or (x3_val != 0) or (x4_val != 0):\n",
    "       print(txt_file)"
   ]
  },
  {
   "cell_type": "code",
   "execution_count": null,
   "id": "8a769b17-c749-4c30-b7a0-d44507c8fa81",
   "metadata": {},
   "outputs": [],
   "source": []
  }
 ],
 "metadata": {
  "kernelspec": {
   "display_name": "Python 3 (ipykernel)",
   "language": "python",
   "name": "python3"
  },
  "language_info": {
   "codemirror_mode": {
    "name": "ipython",
    "version": 3
   },
   "file_extension": ".py",
   "mimetype": "text/x-python",
   "name": "python",
   "nbconvert_exporter": "python",
   "pygments_lexer": "ipython3",
   "version": "3.11.7"
  }
 },
 "nbformat": 4,
 "nbformat_minor": 5
}
