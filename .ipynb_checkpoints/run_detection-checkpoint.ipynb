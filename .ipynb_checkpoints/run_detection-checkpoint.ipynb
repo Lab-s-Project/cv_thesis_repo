{
 "cells": [
  {
   "cell_type": "code",
   "execution_count": 1,
   "id": "f1b5ad3d-00a5-43b8-9afd-7ec5401a067a",
   "metadata": {},
   "outputs": [],
   "source": [
    "#import all required modules\n",
    "%load_ext autoreload\n",
    "%autoreload 2\n",
    "#import all required modules\n",
    "from modules.xstream import Stream\n",
    "from modules.xenum import StreamType, ModelType, PolygonType\n",
    "from modules.xutils import Config, add_polygon\n",
    "from modules.xpolygon import XPolygon\n",
    "from detection.core import DLModel\n",
    "import cv2"
   ]
  },
  {
   "cell_type": "code",
   "execution_count": 2,
   "id": "87d1d521-fc14-45d3-a685-e0f723151955",
   "metadata": {},
   "outputs": [],
   "source": [
    "#global vars\n",
    "config = Config()\n",
    "config.cam_windows_size = (1280, 720)\n",
    "config.show_windows_size = (1280, 720)"
   ]
  },
  {
   "cell_type": "code",
   "execution_count": 3,
   "id": "3cca69ac-7e61-4d6d-be46-625c56842dc2",
   "metadata": {},
   "outputs": [
    {
     "name": "stdout",
     "output_type": "stream",
     "text": [
      "[msg]: target video file was set.\n",
      "[msg]: loading cv2 capture object.\n",
      "[msg]: capture object loading completed.\n"
     ]
    }
   ],
   "source": [
    "#define stream object\n",
    "stream = Stream(stream_type = StreamType.file, config = config)\n",
    "stream.set_file_location('./assets/videos/vid001.mp4')\n",
    "cap = stream.get_cap()"
   ]
  },
  {
   "cell_type": "code",
   "execution_count": 4,
   "id": "09ae0214-2e5e-4c56-94b2-8f7593d73b63",
   "metadata": {},
   "outputs": [
    {
     "name": "stdout",
     "output_type": "stream",
     "text": [
      "[msg]: extract first frame for drawing polygon shape.\n",
      "[msg]: drawing risk area as polygon shape.\n"
     ]
    }
   ],
   "source": [
    "polygon = XPolygon(cap=cap, \n",
    "                   polygon_type=PolygonType.line, \n",
    "                   show_windows_size=config.show_windows_size)\n",
    "polygons_list = polygon.draw()"
   ]
  },
  {
   "cell_type": "code",
   "execution_count": 5,
   "id": "018a9195-8bdc-41cb-9231-24eff86319c6",
   "metadata": {},
   "outputs": [
    {
     "name": "stdout",
     "output_type": "stream",
     "text": [
      "[msg]: polygon: POLYGON ((182 141, 386 148, 766 192, 938 215, 888 424, 435 386, 142 337, 24 309, 180 140, 182 141))\n",
      "[msg]: loading yolo model from .pt file.\n",
      "[msg]: yolo model loaded successfully.\n"
     ]
    }
   ],
   "source": [
    "dlmodel = DLModel(model_type=ModelType.yolov8l, \n",
    "                  stream=stream, \n",
    "                  config=config)\n",
    "dlmodel.set_risk_area(polygons_list)\n",
    "dlmodel.detect(extract=True, save_file=False)"
   ]
  }
 ],
 "metadata": {
  "kernelspec": {
   "display_name": "Python 3 (ipykernel)",
   "language": "python",
   "name": "python3"
  },
  "language_info": {
   "codemirror_mode": {
    "name": "ipython",
    "version": 3
   },
   "file_extension": ".py",
   "mimetype": "text/x-python",
   "name": "python",
   "nbconvert_exporter": "python",
   "pygments_lexer": "ipython3",
   "version": "3.11.7"
  }
 },
 "nbformat": 4,
 "nbformat_minor": 5
}
