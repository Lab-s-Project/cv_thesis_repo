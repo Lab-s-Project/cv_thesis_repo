{
 "cells": [
  {
   "cell_type": "code",
   "execution_count": 1,
   "id": "f1b5ad3d-00a5-43b8-9afd-7ec5401a067a",
   "metadata": {},
   "outputs": [],
   "source": [
    "#import all required modules\n",
    "%load_ext autoreload\n",
    "%autoreload 2\n",
    "from modules.xstream import Stream\n",
    "from modules.xenum import StreamType\n",
    "from detection.core import DLModel\n",
    "import cv2"
   ]
  },
  {
   "cell_type": "code",
   "execution_count": 2,
   "id": "bf620c2b-807c-42c2-beef-1d0d40e85185",
   "metadata": {},
   "outputs": [],
   "source": [
    "stream = Stream(stream_type = StreamType.file)\n",
    "stream.set_file_location('./assets/videos/vid001.mp4')"
   ]
  },
  {
   "cell_type": "code",
   "execution_count": 3,
   "id": "250b3720-b0aa-410a-85c1-dbd3060ff3e9",
   "metadata": {},
   "outputs": [
    {
     "name": "stdout",
     "output_type": "stream",
     "text": [
      "[msg]: cap loading completed.\n"
     ]
    },
    {
     "name": "stderr",
     "output_type": "stream",
     "text": [
      "Extracting frames:   7%|████▍                                                        | 36/499 [00:00<00:02, 180.62it/s]"
     ]
    },
    {
     "name": "stdout",
     "output_type": "stream",
     "text": [
      "[msg]: cap loading completed.\n",
      "[msg]: start extracting frames | total frames: 499\n"
     ]
    },
    {
     "name": "stderr",
     "output_type": "stream",
     "text": [
      "Extracting frames: 100%|████████████████████████████████████████████████████████████| 499/499 [00:02<00:00, 197.82it/s]\n"
     ]
    }
   ],
   "source": [
    "frames = stream.extract_frames()"
   ]
  },
  {
   "cell_type": "code",
   "execution_count": 4,
   "id": "c0a2de76-394a-4a15-b99c-40dd75502f0e",
   "metadata": {},
   "outputs": [],
   "source": [
    "dlmodel = DLModel()\n",
    "model = dlmodel.load_model()"
   ]
  },
  {
   "cell_type": "code",
   "execution_count": 5,
   "id": "663cda20-2f4a-4e50-bdd3-fd70653b5afb",
   "metadata": {},
   "outputs": [],
   "source": [
    "dlmodel.pred_frame_list(frames)"
   ]
  },
  {
   "cell_type": "code",
   "execution_count": 6,
   "id": "e1018627-a964-43e0-bd60-aafe82934f4e",
   "metadata": {},
   "outputs": [],
   "source": [
    "dlmodel.save_prediction('vid01.mp4')"
   ]
  },
  {
   "cell_type": "code",
   "execution_count": null,
   "id": "c1d93578-ad3f-47f7-ad25-12fde5cfc1fc",
   "metadata": {},
   "outputs": [],
   "source": []
  },
  {
   "cell_type": "code",
   "execution_count": null,
   "id": "e8427c78-1094-414a-aa35-2920e1d39108",
   "metadata": {},
   "outputs": [],
   "source": []
  },
  {
   "cell_type": "code",
   "execution_count": null,
   "id": "749cf9fa-09ce-4fc8-a259-b99a799a39ed",
   "metadata": {},
   "outputs": [],
   "source": []
  },
  {
   "cell_type": "code",
   "execution_count": null,
   "id": "7bc60ab9-421e-4ae3-85ff-d7b196b74964",
   "metadata": {},
   "outputs": [],
   "source": []
  },
  {
   "cell_type": "code",
   "execution_count": 23,
   "id": "447455b2-3bf2-4afd-bcd9-45bee7c14b05",
   "metadata": {},
   "outputs": [],
   "source": [
    "cv2.imshow('test', res)\n",
    "\n",
    "cv2.waitKey(0)\n",
    "\n",
    "# Close all OpenCV windows\n",
    "cv2.destroyAllWindows()"
   ]
  },
  {
   "cell_type": "code",
   "execution_count": 26,
   "id": "3d0beaf4-0dbd-408f-9cce-04ec95031a10",
   "metadata": {},
   "outputs": [
    {
     "name": "stdout",
     "output_type": "stream",
     "text": [
      "(1080, 1920, 3)\n",
      "(1080, 1920, 3)\n",
      "(1080, 1920, 3)\n",
      "(1080, 1920, 3)\n",
      "(1080, 1920, 3)\n",
      "(1080, 1920, 3)\n",
      "(1080, 1920, 3)\n",
      "(1080, 1920, 3)\n",
      "(1080, 1920, 3)\n",
      "(1080, 1920, 3)\n",
      "(1080, 1920, 3)\n",
      "(1080, 1920, 3)\n",
      "(1080, 1920, 3)\n",
      "(1080, 1920, 3)\n",
      "(1080, 1920, 3)\n",
      "(1080, 1920, 3)\n",
      "(1080, 1920, 3)\n",
      "(1080, 1920, 3)\n",
      "(1080, 1920, 3)\n",
      "(1080, 1920, 3)\n",
      "(1080, 1920, 3)\n",
      "(1080, 1920, 3)\n",
      "(1080, 1920, 3)\n",
      "(1080, 1920, 3)\n",
      "(1080, 1920, 3)\n",
      "(1080, 1920, 3)\n",
      "(1080, 1920, 3)\n",
      "(1080, 1920, 3)\n",
      "(1080, 1920, 3)\n",
      "(1080, 1920, 3)\n",
      "(1080, 1920, 3)\n",
      "(1080, 1920, 3)\n",
      "(1080, 1920, 3)\n",
      "(1080, 1920, 3)\n",
      "(1080, 1920, 3)\n",
      "(1080, 1920, 3)\n",
      "(1080, 1920, 3)\n",
      "(1080, 1920, 3)\n",
      "(1080, 1920, 3)\n",
      "(1080, 1920, 3)\n",
      "(1080, 1920, 3)\n",
      "(1080, 1920, 3)\n",
      "(1080, 1920, 3)\n",
      "(1080, 1920, 3)\n",
      "(1080, 1920, 3)\n",
      "(1080, 1920, 3)\n",
      "(1080, 1920, 3)\n",
      "(1080, 1920, 3)\n",
      "(1080, 1920, 3)\n",
      "(1080, 1920, 3)\n",
      "(1080, 1920, 3)\n",
      "(1080, 1920, 3)\n",
      "(1080, 1920, 3)\n",
      "(1080, 1920, 3)\n",
      "(1080, 1920, 3)\n",
      "(1080, 1920, 3)\n",
      "(1080, 1920, 3)\n",
      "(1080, 1920, 3)\n",
      "(1080, 1920, 3)\n",
      "(1080, 1920, 3)\n",
      "(1080, 1920, 3)\n",
      "(1080, 1920, 3)\n",
      "(1080, 1920, 3)\n",
      "(1080, 1920, 3)\n",
      "(1080, 1920, 3)\n",
      "(1080, 1920, 3)\n",
      "(1080, 1920, 3)\n",
      "(1080, 1920, 3)\n",
      "(1080, 1920, 3)\n",
      "(1080, 1920, 3)\n",
      "(1080, 1920, 3)\n",
      "(1080, 1920, 3)\n",
      "(1080, 1920, 3)\n",
      "(1080, 1920, 3)\n",
      "(1080, 1920, 3)\n",
      "(1080, 1920, 3)\n",
      "(1080, 1920, 3)\n",
      "(1080, 1920, 3)\n",
      "(1080, 1920, 3)\n",
      "(1080, 1920, 3)\n",
      "(1080, 1920, 3)\n",
      "(1080, 1920, 3)\n",
      "(1080, 1920, 3)\n",
      "(1080, 1920, 3)\n",
      "(1080, 1920, 3)\n",
      "(1080, 1920, 3)\n",
      "(1080, 1920, 3)\n",
      "(1080, 1920, 3)\n",
      "(1080, 1920, 3)\n",
      "(1080, 1920, 3)\n",
      "(1080, 1920, 3)\n",
      "(1080, 1920, 3)\n",
      "(1080, 1920, 3)\n",
      "(1080, 1920, 3)\n",
      "(1080, 1920, 3)\n",
      "(1080, 1920, 3)\n"
     ]
    }
   ],
   "source": [
    "import time\n",
    "for i in frames:\n",
    "    res = model(i, verbose=False)[0]\n",
    "    plot = res.plot()\n",
    "    print(plot.shape)\n",
    "    cv2.imshow('test', plot)\n",
    "    key = cv2.waitKey(1)\n",
    "    if key == ord('q'):\n",
    "        break\n",
    "cv2.destroyAllWindows()"
   ]
  },
  {
   "cell_type": "code",
   "execution_count": null,
   "id": "b9faae82-4605-4698-a7df-e1384978f1dd",
   "metadata": {},
   "outputs": [],
   "source": []
  },
  {
   "cell_type": "code",
   "execution_count": 22,
   "id": "7ac14b55-2793-4023-a268-9050c82a8f94",
   "metadata": {},
   "outputs": [
    {
     "name": "stdout",
     "output_type": "stream",
     "text": [
      "(1080, 1920, 3)\n"
     ]
    }
   ],
   "source": [
    "import cv2\n",
    "\n",
    "# Load your image\n",
    "# image = cv2.imread('./assets/images/img1.jpg')\n",
    "# print(image.shape)\n",
    "image = frames[0]\n",
    "print(image.shape)\n",
    "# Display the image\n",
    "cv2.imshow('Image', image)\n",
    "\n",
    "# Wait for a key event indefinitely\n",
    "cv2.waitKey(0)\n",
    "\n",
    "# Close all OpenCV windows\n",
    "cv2.destroyAllWindows()"
   ]
  },
  {
   "cell_type": "code",
   "execution_count": null,
   "id": "c573877e-9c8f-4422-ad20-542d0e38a474",
   "metadata": {},
   "outputs": [],
   "source": []
  }
 ],
 "metadata": {
  "kernelspec": {
   "display_name": "Python 3 (ipykernel)",
   "language": "python",
   "name": "python3"
  },
  "language_info": {
   "codemirror_mode": {
    "name": "ipython",
    "version": 3
   },
   "file_extension": ".py",
   "mimetype": "text/x-python",
   "name": "python",
   "nbconvert_exporter": "python",
   "pygments_lexer": "ipython3",
   "version": "3.11.7"
  }
 },
 "nbformat": 4,
 "nbformat_minor": 5
}
