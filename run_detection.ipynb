{
 "cells": [
  {
   "cell_type": "code",
   "execution_count": 1,
   "id": "f1b5ad3d-00a5-43b8-9afd-7ec5401a067a",
   "metadata": {},
   "outputs": [],
   "source": [
    "%load_ext autoreload\n",
    "%autoreload 2\n",
    "\n",
    "#import all required modules\n",
    "from detection.core import DLModel\n",
    "from modules.xstream import Stream\n",
    "from modules.xpolygon import XPolygon\n",
    "from modules.xutils import Config, add_polygon\n",
    "from modules.xenum import StreamType, ModelType, PolygonType"
   ]
  },
  {
   "cell_type": "code",
   "execution_count": 2,
   "id": "87d1d521-fc14-45d3-a685-e0f723151955",
   "metadata": {},
   "outputs": [],
   "source": [
    "#global vars\n",
    "config = Config()\n",
    "config.cam_windows_size = (1280, 720)\n",
    "config.show_windows_size = (1280, 720)"
   ]
  },
  {
   "cell_type": "code",
   "execution_count": 3,
   "id": "3cca69ac-7e61-4d6d-be46-625c56842dc2",
   "metadata": {},
   "outputs": [
    {
     "name": "stdout",
     "output_type": "stream",
     "text": [
      "[msg]: target video file was set.\n",
      "[msg]: loading cv2 capture object.\n",
      "[msg]: capture object loading completed.\n"
     ]
    }
   ],
   "source": [
    "#define stream object\n",
    "stream = Stream(stream_type = StreamType.file, config = config)\n",
    "stream.set_file_location('./assets/videos/vid001.mp4')\n",
    "cap = stream.get_cap()"
   ]
  },
  {
   "cell_type": "code",
   "execution_count": 4,
   "id": "09ae0214-2e5e-4c56-94b2-8f7593d73b63",
   "metadata": {},
   "outputs": [
    {
     "name": "stdout",
     "output_type": "stream",
     "text": [
      "[msg]: extract first frame for drawing polygon shape.\n",
      "[msg]: drawing risk area as polygon shape.\n",
      "[msg]: polygon created. | points = 6\n"
     ]
    }
   ],
   "source": [
    "polygon = XPolygon(cap=cap, \n",
    "                   polygon_type=PolygonType.line, \n",
    "                   show_windows_size=config.show_windows_size)\n",
    "polygons_list = polygon.draw()"
   ]
  },
  {
   "cell_type": "code",
   "execution_count": 5,
   "id": "1ed70b52",
   "metadata": {},
   "outputs": [
    {
     "name": "stdout",
     "output_type": "stream",
     "text": [
      "[(928, 218), (737, 190), (435, 155), (195, 143), (30, 315), (373, 350), (740, 396), (903, 427), (929, 219)]\n"
     ]
    }
   ],
   "source": [
    "polygons_list=[[(928, 218), (737, 190), (435, 155), (195, 143), (30, 315), (373, 350), (740, 396), (903, 427), (929, 219)]]\n",
    "print(*polygons_list)"
   ]
  },
  {
   "cell_type": "code",
   "execution_count": 7,
   "id": "018a9195-8bdc-41cb-9231-24eff86319c6",
   "metadata": {},
   "outputs": [
    {
     "name": "stdout",
     "output_type": "stream",
     "text": [
      "[msg]: polygon: POLYGON ((928 218, 737 190, 435 155, 195 143, 30 315, 373 350, 740 396, 903 427, 929 219, 928 218))\n",
      "[msg]: loading yolo model from .pt file.\n",
      "[msg]: yolo model loaded successfully.\n",
      "[msg]: GPIO connection was established.\n",
      "[msg]: GPIO sending signal thread was started.\n"
     ]
    },
    {
     "name": "stderr",
     "output_type": "stream",
     "text": [
      "Extracting frames:   2%|▏         | 8/499 [00:00<00:06, 79.01it/s]"
     ]
    },
    {
     "name": "stdout",
     "output_type": "stream",
     "text": [
      "[msg]: loading cv2 capture object.\n",
      "[msg]: capture object loading completed.\n",
      "[msg]: start extracting frames | total frames: 499\n"
     ]
    },
    {
     "name": "stderr",
     "output_type": "stream",
     "text": [
      "Extracting frames: 100%|██████████| 499/499 [00:03<00:00, 126.82it/s]\n"
     ]
    },
    {
     "name": "stdout",
     "output_type": "stream",
     "text": [
      "[msg]: GPIO connection was released.\n",
      "[msg]: wait - start saving prediction into file: \"b36bf_20240610105038.mp4\"\n",
      "[msg]: start writing frames into mp4 file.\n",
      "[msg]: file successfully saved as: \"b36bf_20240610105038.mp4\" | Saving time: 4.282931089401245 seconds\n"
     ]
    }
   ],
   "source": [
    "dlmodel = DLModel(model_type=ModelType.custom_best, \n",
    "                  stream=stream, \n",
    "                  config=config)\n",
    "dlmodel.set_risk_area(polygons_list)\n",
    "dlmodel.detect(extract=True, save_file=True)"
   ]
  }
 ],
 "metadata": {
  "kernelspec": {
   "display_name": "Python 3 (ipykernel)",
   "language": "python",
   "name": "python3"
  },
  "language_info": {
   "codemirror_mode": {
    "name": "ipython",
    "version": 3
   },
   "file_extension": ".py",
   "mimetype": "text/x-python",
   "name": "python",
   "nbconvert_exporter": "python",
   "pygments_lexer": "ipython3",
   "version": "3.12.2"
  }
 },
 "nbformat": 4,
 "nbformat_minor": 5
}
