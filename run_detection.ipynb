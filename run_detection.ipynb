{
 "cells": [
  {
   "cell_type": "code",
   "execution_count": 16,
   "id": "f1b5ad3d-00a5-43b8-9afd-7ec5401a067a",
   "metadata": {},
   "outputs": [],
   "source": [
    "%load_ext autoreload\n",
    "%autoreload 2\n",
    "\n",
    "#import all required modules\n",
    "from detection.core import DLModel\n",
    "from modules.xstream import Stream\n",
    "from modules.xpolygon import XPolygon\n",
    "from modules.xutils import Config, add_polygon\n",
    "from modules.xenum import StreamType, ModelType, PolygonType"
   ]
  },
  {
   "cell_type": "code",
   "execution_count": null,
   "id": "87d1d521-fc14-45d3-a685-e0f723151955",
   "metadata": {},
   "outputs": [],
   "source": [
    "#global vars\n",
    "config = Config()\n",
    "config.cam_windows_size = (1280, 720)\n",
    "config.show_windows_size = (1280, 720)"
   ]
  },
  {
   "cell_type": "code",
   "execution_count": null,
   "id": "3cca69ac-7e61-4d6d-be46-625c56842dc2",
   "metadata": {},
   "outputs": [
    {
     "name": "stdout",
     "output_type": "stream",
     "text": [
      "[msg]: target video file was set.\n",
      "[msg]: loading cv2 capture object.\n",
      "[msg]: capture object loading completed.\n"
     ]
    }
   ],
   "source": [
    "#define stream object\n",
    "stream = Stream(stream_type = StreamType.file, config = config)\n",
    "stream.set_file_location('./assets/videos/vid001.mp4')\n",
    "cap = stream.get_cap()"
   ]
  },
  {
   "cell_type": "code",
   "execution_count": null,
   "id": "09ae0214-2e5e-4c56-94b2-8f7593d73b63",
   "metadata": {},
   "outputs": [
    {
     "name": "stdout",
     "output_type": "stream",
     "text": [
      "[msg]: extract first frame for drawing polygon shape.\n",
      "[msg]: drawing risk area as polygon shape.\n"
     ]
    }
   ],
   "source": [
    "polygon = XPolygon(cap=cap, \n",
    "                   polygon_type=PolygonType.line, \n",
    "                   show_windows_size=config.show_windows_size)\n",
    "polygons_list = polygon.draw()"
   ]
  },
  {
   "cell_type": "code",
   "execution_count": null,
   "id": "1ed70b52",
   "metadata": {},
   "outputs": [],
   "source": [
    "# polygons_list=[[(928, 218), (737, 190), (435, 155), (195, 143), (30, 315), (373, 350), (740, 396), (903, 427), (929, 219)]]"
   ]
  },
  {
   "cell_type": "code",
   "execution_count": null,
   "id": "018a9195-8bdc-41cb-9231-24eff86319c6",
   "metadata": {},
   "outputs": [
    {
     "name": "stdout",
     "output_type": "stream",
     "text": [
      "[msg]: polygon: POLYGON ((182 141, 386 148, 766 192, 938 215, 888 424, 435 386, 142 337, 24 309, 180 140, 182 141))\n",
      "[msg]: loading yolo model from .pt file.\n",
      "[msg]: yolo model loaded successfully.\n"
     ]
    }
   ],
   "source": [
    "dlmodel = DLModel(model_type=ModelType.yolov8l, \n",
    "                  stream=stream, \n",
    "                  config=config)\n",
    "dlmodel.set_risk_area(polygons_list)\n",
    "dlmodel.detect(extract=True, save_file=False)"
   ]
  },
  {
   "cell_type": "code",
   "execution_count": null,
   "id": "6795bb2b",
   "metadata": {},
   "outputs": [],
   "source": []
  },
  {
   "cell_type": "code",
   "execution_count": 38,
   "id": "e8203ecf",
   "metadata": {},
   "outputs": [],
   "source": [
    "#import all required modules\n",
    "import time\n",
    "import RPi.GPIO as GPIO\n",
    "from threading import Thread\n",
    "\n",
    "#base class for managing GPIO process\n",
    "class XGPIO(object):\n",
    "    def __init__(self, pins, sra=True): #sra=start signal thread right away\n",
    "        self.gpio = GPIO\n",
    "        self.pins = pins\n",
    "        self.running = True\n",
    "        self.send_signal_thread = None\n",
    "        self.current_state = GPIO.HIGH\n",
    "        self.setup()\n",
    "    \n",
    "    def setup(self):\n",
    "        self.gpio.setmode(GPIO.BCM)\n",
    "        self.gpio.setup(self.pins, GPIO.OUT, initial=GPIO.HIGH)\n",
    "\n",
    "    def release(self):\n",
    "        self.running = True\n",
    "        self.gpio.cleanup()\n",
    "    \n",
    "    def send(self, pins):\n",
    "        assert len(pins) != 0, 'incorrect pins number list.'\n",
    "        #repeatedly send signal to the tower\n",
    "        for i in range(30):\n",
    "            if self.running:\n",
    "                self.gpio.output(pins, GPIO.LOW)\n",
    "                time.sleep(0.1)\n",
    "            else:\n",
    "                break"
   ]
  },
  {
   "cell_type": "code",
   "execution_count": 39,
   "id": "68589976",
   "metadata": {},
   "outputs": [],
   "source": [
    "xgpio = XGPIO([5, 12, 18])"
   ]
  },
  {
   "cell_type": "code",
   "execution_count": 40,
   "id": "6b50cd5a",
   "metadata": {},
   "outputs": [],
   "source": [
    "xgpio.send([18])"
   ]
  },
  {
   "cell_type": "code",
   "execution_count": null,
   "id": "9231ec48",
   "metadata": {},
   "outputs": [],
   "source": []
  },
  {
   "cell_type": "code",
   "execution_count": null,
   "id": "5da57df5",
   "metadata": {},
   "outputs": [],
   "source": []
  }
 ],
 "metadata": {
  "kernelspec": {
   "display_name": "Python 3 (ipykernel)",
   "language": "python",
   "name": "python3"
  },
  "language_info": {
   "codemirror_mode": {
    "name": "ipython",
    "version": 3
   },
   "file_extension": ".py",
   "mimetype": "text/x-python",
   "name": "python",
   "nbconvert_exporter": "python",
   "pygments_lexer": "ipython3",
   "version": "3.8.10"
  }
 },
 "nbformat": 4,
 "nbformat_minor": 5
}
